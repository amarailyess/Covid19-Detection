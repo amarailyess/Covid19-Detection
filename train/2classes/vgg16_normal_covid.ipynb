{
 "cells": [
  {
   "cell_type": "code",
   "execution_count": 8,
   "id": "75902f11",
   "metadata": {},
   "outputs": [],
   "source": [
    "import os\n",
    "import zipfile\n",
    "import datetime\n",
    "from collections import Counter\n",
    "\n",
    "import sklearn\n",
    "import numpy as np\n",
    "import pandas as pd\n",
    "from sklearn.model_selection import StratifiedShuffleSplit\n",
    "import tensorflow as tf\n",
    "from tensorflow.keras.preprocessing.image import ImageDataGenerator\n",
    "from tensorflow import keras\n",
    "from tensorflow.keras import models,layers\n",
    "from tensorflow.keras.utils import plot_model\n",
    "from tensorflow.keras.callbacks import ReduceLROnPlateau, ModelCheckpoint, EarlyStopping\n",
    "from tensorflow.keras.models import Sequential, Model\n",
    "from tensorflow.keras.layers import Conv2D, MaxPooling2D, Input,AveragePooling2D\n",
    "from tensorflow.keras.layers import Dense, Flatten, Dropout, BatchNormalization, Add, GlobalAveragePooling2D\n",
    "from tensorflow.keras.losses import categorical_crossentropy\n",
    "\n",
    "import matplotlib.pyplot as plt\n",
    "import PIL.Image\n",
    "from IPython.display import Image\n",
    "import matplotlib.pyplot as plt\n",
    "import pydot\n",
    "from tensorflow.python.client import device_lib\n",
    "import pathlib\n",
    "from tensorflow.keras.losses import binary_crossentropy\n",
    "from sklearn.metrics import classification_report,confusion_matrix, accuracy_score\n",
    "import random\n",
    "import importlib"
   ]
  },
  {
   "cell_type": "code",
   "execution_count": 2,
   "id": "dd69a989",
   "metadata": {},
   "outputs": [],
   "source": [
    "config = tf.compat.v1.ConfigProto( device_count = {'GPU': 1 , 'CPU': 56} ) \n",
    "sess = tf.compat.v1.Session(config=config) \n",
    "tf.compat.v1.keras.backend.set_session(sess)"
   ]
  },
  {
   "cell_type": "code",
   "execution_count": 4,
   "id": "fc87c4f3",
   "metadata": {},
   "outputs": [
    {
     "name": "stdout",
     "output_type": "stream",
     "text": [
      "Found 11047 images belonging to 2 classes.\n"
     ]
    }
   ],
   "source": [
    "\"\"\"Data Augmentation\"\"\"\n",
    "\n",
    "train_data_gen = ImageDataGenerator(rescale=1./255 ,\n",
    "                                    zoom_range= 0.3, \n",
    "                                    horizontal_flip= True, \n",
    "                                    shear_range= 0.2,\n",
    "                                    rotation_range = 30\n",
    "                                    )\n",
    "\n",
    "train = train_data_gen.flow_from_directory(directory= '../inception_resnetv2/Data/Train',\n",
    "                                           class_mode = 'binary',\n",
    "                                           batch_size=64,\n",
    "                                           target_size=(224,224))"
   ]
  },
  {
   "cell_type": "code",
   "execution_count": 5,
   "id": "be10726c",
   "metadata": {},
   "outputs": [
    {
     "name": "stdout",
     "output_type": "stream",
     "text": [
      "Found 1377 images belonging to 2 classes.\n",
      "Found 1384 images belonging to 2 classes.\n"
     ]
    }
   ],
   "source": [
    "test_data_gen = ImageDataGenerator(rescale=1./255 )\n",
    "\n",
    "test = test_data_gen.flow_from_directory(directory= '../inception_resnetv2/Data/Test' , \n",
    "                                          target_size=(224,224), \n",
    "                                            class_mode = 'binary',\n",
    "                                        shuffle=False,\n",
    "                                        batch_size=64)\n",
    "\n",
    "valid = test_data_gen.flow_from_directory(directory= '../inception_resnetv2/Data/Valid' , \n",
    "                                          target_size=(224,224), \n",
    "                                            class_mode = 'binary',\n",
    "                                        shuffle=False,\n",
    "                                        batch_size=64)"
   ]
  },
  {
   "cell_type": "code",
   "execution_count": 6,
   "id": "d0b17d02",
   "metadata": {},
   "outputs": [],
   "source": [
    "basenet16 = tf.keras.applications.vgg16.VGG16(include_top=False, weights='imagenet',input_shape = (224,224,3))\n",
    "basenet16.trainable= False"
   ]
  },
  {
   "cell_type": "code",
   "execution_count": 19,
   "id": "24ab6d37",
   "metadata": {},
   "outputs": [
    {
     "name": "stdout",
     "output_type": "stream",
     "text": [
      "Model: \"vgg16\"\n",
      "_________________________________________________________________\n",
      "Layer (type)                 Output Shape              Param #   \n",
      "=================================================================\n",
      "input_1 (InputLayer)         [(None, 224, 224, 3)]     0         \n",
      "_________________________________________________________________\n",
      "block1_conv1 (Conv2D)        (None, 224, 224, 64)      1792      \n",
      "_________________________________________________________________\n",
      "block1_conv2 (Conv2D)        (None, 224, 224, 64)      36928     \n",
      "_________________________________________________________________\n",
      "block1_pool (MaxPooling2D)   (None, 112, 112, 64)      0         \n",
      "_________________________________________________________________\n",
      "block2_conv1 (Conv2D)        (None, 112, 112, 128)     73856     \n",
      "_________________________________________________________________\n",
      "block2_conv2 (Conv2D)        (None, 112, 112, 128)     147584    \n",
      "_________________________________________________________________\n",
      "block2_pool (MaxPooling2D)   (None, 56, 56, 128)       0         \n",
      "_________________________________________________________________\n",
      "block3_conv1 (Conv2D)        (None, 56, 56, 256)       295168    \n",
      "_________________________________________________________________\n",
      "block3_conv2 (Conv2D)        (None, 56, 56, 256)       590080    \n",
      "_________________________________________________________________\n",
      "block3_conv3 (Conv2D)        (None, 56, 56, 256)       590080    \n",
      "_________________________________________________________________\n",
      "block3_pool (MaxPooling2D)   (None, 28, 28, 256)       0         \n",
      "_________________________________________________________________\n",
      "block4_conv1 (Conv2D)        (None, 28, 28, 512)       1180160   \n",
      "_________________________________________________________________\n",
      "block4_conv2 (Conv2D)        (None, 28, 28, 512)       2359808   \n",
      "_________________________________________________________________\n",
      "block4_conv3 (Conv2D)        (None, 28, 28, 512)       2359808   \n",
      "_________________________________________________________________\n",
      "block4_pool (MaxPooling2D)   (None, 14, 14, 512)       0         \n",
      "_________________________________________________________________\n",
      "block5_conv1 (Conv2D)        (None, 14, 14, 512)       2359808   \n",
      "_________________________________________________________________\n",
      "block5_conv2 (Conv2D)        (None, 14, 14, 512)       2359808   \n",
      "_________________________________________________________________\n",
      "block5_conv3 (Conv2D)        (None, 14, 14, 512)       2359808   \n",
      "_________________________________________________________________\n",
      "block5_pool (MaxPooling2D)   (None, 7, 7, 512)         0         \n",
      "=================================================================\n",
      "Total params: 14,714,688\n",
      "Trainable params: 0\n",
      "Non-trainable params: 14,714,688\n",
      "_________________________________________________________________\n"
     ]
    }
   ],
   "source": [
    "basenet16.summary()"
   ]
  },
  {
   "cell_type": "code",
   "execution_count": 24,
   "id": "7933bd91",
   "metadata": {},
   "outputs": [],
   "source": [
    "x = Flatten()(basenet16.output)\n",
    "d1 = Dense(1024, activation= 'relu')(x)\n",
    "dr1 = Dropout(0.5)(d1)\n",
    "d2 = Dense(1024, activation= 'relu')(dr1)\n",
    "dr2 = Dropout(0.5)(d2)\n",
    "prediction= Dense(units=1 , activation='sigmoid')(dr2)\n",
    "\n",
    "model2= Model(basenet16.input,prediction)"
   ]
  },
  {
   "cell_type": "code",
   "execution_count": 25,
   "id": "583c4466",
   "metadata": {},
   "outputs": [],
   "source": [
    "model2.compile(\n",
    "    optimizer = tf.keras.optimizers.Adam(0.001),\n",
    "    loss = 'binary_crossentropy',\n",
    "    metrics = ['accuracy']\n",
    ")"
   ]
  },
  {
   "cell_type": "code",
   "execution_count": 26,
   "id": "f3ed4543",
   "metadata": {},
   "outputs": [],
   "source": [
    "early = EarlyStopping(monitor='accuracy',patience=3)\n",
    "learning_rate_reduction = ReduceLROnPlateau(monitor='accuracy',\n",
    "                                            patience = 2,\n",
    "                                            factor=0.3,\n",
    "                                            min_lr=0.000001)\n",
    "\n",
    "callbacks_list = [ early, learning_rate_reduction]"
   ]
  },
  {
   "cell_type": "code",
   "execution_count": 27,
   "id": "bfb4e90f",
   "metadata": {},
   "outputs": [
    {
     "name": "stdout",
     "output_type": "stream",
     "text": [
      "{0: 1.9092637400622192, 1: 0.6773975962717684}\n"
     ]
    }
   ],
   "source": [
    "from sklearn.utils.class_weight import compute_class_weight\n",
    "weights = compute_class_weight('balanced',np.unique(train.classes), train.classes)\n",
    "cw = dict(zip( np.unique(train.classes), weights))\n",
    "print(cw)"
   ]
  },
  {
   "cell_type": "code",
   "execution_count": 28,
   "id": "b2668266",
   "metadata": {
    "scrolled": true
   },
   "outputs": [
    {
     "name": "stdout",
     "output_type": "stream",
     "text": [
      "Epoch 1/50\n",
      "173/173 [==============================] - 175s 843ms/step - loss: 0.6829 - accuracy: 0.7412 - val_loss: 0.3826 - val_accuracy: 0.8425\n",
      "Epoch 2/50\n",
      "173/173 [==============================] - 127s 730ms/step - loss: 0.4527 - accuracy: 0.7778 - val_loss: 0.2946 - val_accuracy: 0.8627\n",
      "Epoch 3/50\n",
      "173/173 [==============================] - 125s 721ms/step - loss: 0.4447 - accuracy: 0.7491 - val_loss: 0.2933 - val_accuracy: 0.8743\n",
      "Epoch 4/50\n",
      "173/173 [==============================] - 132s 762ms/step - loss: 0.4015 - accuracy: 0.7617 - val_loss: 0.2682 - val_accuracy: 0.9046\n",
      "Epoch 5/50\n",
      "173/173 [==============================] - 118s 682ms/step - loss: 0.3596 - accuracy: 0.8454 - val_loss: 0.2627 - val_accuracy: 0.9133\n",
      "Epoch 6/50\n",
      "173/173 [==============================] - 121s 697ms/step - loss: 0.3488 - accuracy: 0.8593 - val_loss: 0.2739 - val_accuracy: 0.9176\n",
      "Epoch 7/50\n",
      "173/173 [==============================] - 124s 714ms/step - loss: 0.3428 - accuracy: 0.8678 - val_loss: 0.2238 - val_accuracy: 0.9191\n",
      "Epoch 8/50\n",
      "173/173 [==============================] - 119s 687ms/step - loss: 0.3447 - accuracy: 0.8696 - val_loss: 0.2524 - val_accuracy: 0.9227\n",
      "Epoch 9/50\n",
      "173/173 [==============================] - 120s 693ms/step - loss: 0.3197 - accuracy: 0.8718 - val_loss: 0.2290 - val_accuracy: 0.9285\n",
      "Epoch 10/50\n",
      "173/173 [==============================] - 121s 697ms/step - loss: 0.3205 - accuracy: 0.8734 - val_loss: 0.2303 - val_accuracy: 0.9277\n",
      "Epoch 11/50\n",
      "173/173 [==============================] - 126s 725ms/step - loss: 0.3277 - accuracy: 0.8707 - val_loss: 0.2097 - val_accuracy: 0.9277\n",
      "Epoch 12/50\n",
      "173/173 [==============================] - 146s 841ms/step - loss: 0.3190 - accuracy: 0.8777 - val_loss: 0.1982 - val_accuracy: 0.9321\n",
      "Epoch 13/50\n",
      "173/173 [==============================] - 247s 1s/step - loss: 0.3198 - accuracy: 0.8761 - val_loss: 0.2149 - val_accuracy: 0.9263\n",
      "Epoch 14/50\n",
      "173/173 [==============================] - 233s 1s/step - loss: 0.3155 - accuracy: 0.8778 - val_loss: 0.2323 - val_accuracy: 0.9408\n",
      "Epoch 15/50\n",
      "173/173 [==============================] - 230s 1s/step - loss: 0.3026 - accuracy: 0.8855 - val_loss: 0.2094 - val_accuracy: 0.9451\n",
      "Epoch 16/50\n",
      "173/173 [==============================] - 229s 1s/step - loss: 0.2932 - accuracy: 0.8893 - val_loss: 0.2008 - val_accuracy: 0.9400\n",
      "Epoch 17/50\n",
      "173/173 [==============================] - 228s 1s/step - loss: 0.2963 - accuracy: 0.8855 - val_loss: 0.1919 - val_accuracy: 0.9342\n",
      "Epoch 18/50\n",
      "173/173 [==============================] - 229s 1s/step - loss: 0.2857 - accuracy: 0.8871 - val_loss: 0.1931 - val_accuracy: 0.9451\n",
      "Epoch 19/50\n",
      "173/173 [==============================] - 228s 1s/step - loss: 0.2821 - accuracy: 0.8898 - val_loss: 0.1917 - val_accuracy: 0.9408\n",
      "Epoch 20/50\n",
      "173/173 [==============================] - 228s 1s/step - loss: 0.2850 - accuracy: 0.8875 - val_loss: 0.2021 - val_accuracy: 0.9357\n",
      "Epoch 21/50\n",
      "173/173 [==============================] - 229s 1s/step - loss: 0.2839 - accuracy: 0.8895 - val_loss: 0.1969 - val_accuracy: 0.9444\n",
      "Epoch 22/50\n",
      "173/173 [==============================] - 228s 1s/step - loss: 0.2844 - accuracy: 0.8882 - val_loss: 0.1991 - val_accuracy: 0.9429\n"
     ]
    }
   ],
   "source": [
    "hist = model2.fit(train,\n",
    "                  steps_per_epoch= len(train),\n",
    "                  epochs= 50,\n",
    "                  validation_data= valid,\n",
    "                  class_weight=cw,\n",
    "                  validation_steps= len(test),\n",
    "                  callbacks=callbacks_list)"
   ]
  },
  {
   "cell_type": "code",
   "execution_count": 29,
   "id": "f7f0f97e",
   "metadata": {},
   "outputs": [
    {
     "name": "stdout",
     "output_type": "stream",
     "text": [
      "22/22 [==============================] - 40s 2s/step - loss: 0.1888 - accuracy: 0.9426\n",
      "The testing accuracy is : 94.26289200782776 %\n"
     ]
    }
   ],
   "source": [
    "test_accu = model2.evaluate(test)\n",
    "print('The testing accuracy is :',test_accu[1]*100, '%')"
   ]
  },
  {
   "cell_type": "code",
   "execution_count": 2,
   "id": "a52c9378",
   "metadata": {},
   "outputs": [
    {
     "ename": "NameError",
     "evalue": "name 'model2' is not defined",
     "output_type": "error",
     "traceback": [
      "\u001b[1;31m---------------------------------------------------------------------------\u001b[0m",
      "\u001b[1;31mNameError\u001b[0m                                 Traceback (most recent call last)",
      "\u001b[1;32m<ipython-input-2-6a60a6d4a540>\u001b[0m in \u001b[0;36m<module>\u001b[1;34m\u001b[0m\n\u001b[1;32m----> 1\u001b[1;33m \u001b[0mpreds\u001b[0m \u001b[1;33m=\u001b[0m \u001b[0mmodel2\u001b[0m\u001b[1;33m.\u001b[0m\u001b[0mpredict\u001b[0m\u001b[1;33m(\u001b[0m\u001b[0mtest\u001b[0m\u001b[1;33m,\u001b[0m\u001b[0mverbose\u001b[0m\u001b[1;33m=\u001b[0m\u001b[1;36m1\u001b[0m\u001b[1;33m)\u001b[0m\u001b[1;33m\u001b[0m\u001b[1;33m\u001b[0m\u001b[0m\n\u001b[0m",
      "\u001b[1;31mNameError\u001b[0m: name 'model2' is not defined"
     ]
    }
   ],
   "source": [
    "preds = model2.predict(test,verbose=1)"
   ]
  },
  {
   "cell_type": "code",
   "execution_count": 30,
   "id": "429c437a",
   "metadata": {},
   "outputs": [
    {
     "name": "stdout",
     "output_type": "stream",
     "text": [
      "22/22 [==============================] - 23s 1s/step\n"
     ]
    }
   ],
   "source": [
    "preds = model2.predict(test,verbose=1)\n",
    "predictions = preds.copy()\n",
    "predictions[predictions <= 0.5] = 0\n",
    "predictions[predictions > 0.5] = 1"
   ]
  },
  {
   "cell_type": "code",
   "execution_count": 1,
   "id": "aa64ad65",
   "metadata": {},
   "outputs": [
    {
     "ename": "NameError",
     "evalue": "name 'pd' is not defined",
     "output_type": "error",
     "traceback": [
      "\u001b[1;31m---------------------------------------------------------------------------\u001b[0m",
      "\u001b[1;31mNameError\u001b[0m                                 Traceback (most recent call last)",
      "\u001b[1;32m<ipython-input-1-c9486e9d3908>\u001b[0m in \u001b[0;36m<module>\u001b[1;34m\u001b[0m\n\u001b[0;32m      1\u001b[0m \u001b[1;32mfrom\u001b[0m \u001b[0msklearn\u001b[0m\u001b[1;33m.\u001b[0m\u001b[0mmetrics\u001b[0m \u001b[1;32mimport\u001b[0m \u001b[0mclassification_report\u001b[0m\u001b[1;33m,\u001b[0m\u001b[0mconfusion_matrix\u001b[0m\u001b[1;33m\u001b[0m\u001b[1;33m\u001b[0m\u001b[0m\n\u001b[1;32m----> 2\u001b[1;33m cm = pd.DataFrame(data=confusion_matrix(test.classes, predictions, labels=[0, 1]),index=[\"Actual Normal\", \"Actual COVID\"],\n\u001b[0m\u001b[0;32m      3\u001b[0m columns=[\"Predicted Normal\", \"Predicted COVID\"])\n\u001b[0;32m      4\u001b[0m \u001b[1;32mimport\u001b[0m \u001b[0mseaborn\u001b[0m \u001b[1;32mas\u001b[0m \u001b[0msns\u001b[0m\u001b[1;33m\u001b[0m\u001b[1;33m\u001b[0m\u001b[0m\n\u001b[0;32m      5\u001b[0m \u001b[0msns\u001b[0m\u001b[1;33m.\u001b[0m\u001b[0mheatmap\u001b[0m\u001b[1;33m(\u001b[0m\u001b[0mcm\u001b[0m\u001b[1;33m,\u001b[0m\u001b[0mannot\u001b[0m\u001b[1;33m=\u001b[0m\u001b[1;32mTrue\u001b[0m\u001b[1;33m,\u001b[0m\u001b[0mfmt\u001b[0m\u001b[1;33m=\u001b[0m\u001b[1;34m\"d\"\u001b[0m\u001b[1;33m)\u001b[0m\u001b[1;33m\u001b[0m\u001b[1;33m\u001b[0m\u001b[0m\n",
      "\u001b[1;31mNameError\u001b[0m: name 'pd' is not defined"
     ]
    }
   ],
   "source": [
    "from sklearn.metrics import classification_report,confusion_matrix\n",
    "cm = pd.DataFrame(data=confusion_matrix(test.classes, predictions, labels=[0, 1]),index=[\"Actual Normal\", \"Actual COVID\"],\n",
    "columns=[\"Predicted Normal\", \"Predicted COVID\"])\n",
    "import seaborn as sns\n",
    "sns.heatmap(cm,annot=True,fmt=\"d\")"
   ]
  },
  {
   "cell_type": "code",
   "execution_count": 32,
   "id": "9ec4a223",
   "metadata": {},
   "outputs": [
    {
     "name": "stdout",
     "output_type": "stream",
     "text": [
      "              precision    recall  f1-score   support\n",
      "\n",
      "      NORMAL       0.92      0.86      0.89       360\n",
      "       COVID       0.95      0.97      0.96      1017\n",
      "\n",
      "    accuracy                           0.94      1377\n",
      "   macro avg       0.93      0.91      0.92      1377\n",
      "weighted avg       0.94      0.94      0.94      1377\n",
      "\n"
     ]
    }
   ],
   "source": [
    "print(classification_report(y_true=test.classes,y_pred=predictions,target_names =['NORMAL','COVID']))"
   ]
  },
  {
   "cell_type": "code",
   "execution_count": 33,
   "id": "baedfa2c",
   "metadata": {},
   "outputs": [],
   "source": [
    "y_true=test.classes"
   ]
  },
  {
   "cell_type": "code",
   "execution_count": 34,
   "id": "62b89cfa",
   "metadata": {},
   "outputs": [],
   "source": [
    "from sklearn.metrics import precision_recall_fscore_support, accuracy_score"
   ]
  },
  {
   "cell_type": "code",
   "execution_count": 35,
   "id": "708ec590",
   "metadata": {},
   "outputs": [
    {
     "name": "stdout",
     "output_type": "stream",
     "text": [
      "**Overall Results**\n",
      "Accuracy Result: 94.26%\n",
      "Precision Result: 95.01%\n",
      "Recall Result: 97.35%\n",
      "F-Score Result: 96.16%\n"
     ]
    },
    {
     "data": {
      "image/png": "[encoded data removed]",
      "text/plain": [
       "<Figure size 1584x720 with 1 Axes>"
      ]
     },
     "metadata": {
      "needs_background": "light"
     },
     "output_type": "display_data"
    },
    {
     "data": {
      "image/png": "[encoded data removed]",
      "text/plain": [
       "<Figure size 1584x720 with 1 Axes>"
      ]
     },
     "metadata": {
      "needs_background": "light"
     },
     "output_type": "display_data"
    },
    {
     "data": {
      "image/png": "[encoded data removed]",
      "text/plain": [
       "<Figure size 1584x720 with 1 Axes>"
      ]
     },
     "metadata": {
      "needs_background": "light"
     },
     "output_type": "display_data"
    }
   ],
   "source": [
    "#Accuracy Result\n",
    "acc = accuracy_score(y_true, predictions)\n",
    "#Precision, Recall and F-Score (For the whole dataset)\n",
    "results_all = precision_recall_fscore_support(y_true, predictions, average='macro',zero_division = 1)\n",
    "#Precision, Recall and F-Score (For each Class)\n",
    "results_class = precision_recall_fscore_support(y_true, predictions, average=None, zero_division = 1)\n",
    "\n",
    "#Organise the Results into a Dataframe\n",
    "metric_columns = ['Precision','Recall', 'F-Score','S']\n",
    "all_df = pd.concat([pd.DataFrame(list(results_class)).T,pd.DataFrame(list(results_all)).T])\n",
    "all_df.columns = metric_columns\n",
    "all_df.index = ['COVID','Normal','Total']\n",
    "\n",
    "#Function to plot the metrics into a nice bar Plot\n",
    "def metrics_plot(df,metric):\n",
    "    plt.figure(figsize=(22,10))\n",
    "    ax = sns.barplot(data =df, x=df.index, y = metric,palette = \"Blues_d\")\n",
    "    #Bar Labels\n",
    "    for p in ax.patches:\n",
    "        ax.annotate(\"%.1f%%\" % (100*p.get_height()), (p.get_x() + p.get_width() / 2., abs(p.get_height())),\n",
    "        ha='center', va='bottom', color='black', xytext=(-3, 5),rotation = 'horizontal',textcoords='offset points')\n",
    "    sns.despine(top=True, right=True, left=True, bottom=False)\n",
    "    ax.set_xlabel('Class',fontsize = 14,weight = 'bold')\n",
    "    ax.set_ylabel(metric,fontsize = 14,weight = 'bold')\n",
    "    ax.set(yticklabels=[])\n",
    "    ax.axes.get_yaxis().set_visible(False) \n",
    "    plt.title(metric+ ' Results per Class', fontsize = 16,weight = 'bold');\n",
    "    \n",
    "metrics_plot(all_df, 'Precision')#Results by Class\n",
    "metrics_plot(all_df, 'Recall')#Results by Class\n",
    "metrics_plot(all_df, 'F-Score')#Results by Class\n",
    "print('**Overall Results**')\n",
    "print('Accuracy Result: %.2f%%'%(acc*100)) #Accuracy of the whole Dataset\n",
    "print('Precision Result: %.2f%%'%(all_df.iloc[1,0]*100))#Precision of the whole Dataset\n",
    "print('Recall Result: %.2f%%'%(all_df.iloc[1,1]*100))#Recall of the whole Dataset\n",
    "print('F-Score Result: %.2f%%'%(all_df.iloc[1,2]*100))#F-Score of the whole Dataset"
   ]
  },
  {
   "cell_type": "code",
   "execution_count": 37,
   "id": "32ddbe16",
   "metadata": {},
   "outputs": [
    {
     "data": {
      "image/png": "[encoded data removed]",
      "text/plain": [
       "<Figure size 864x432 with 2 Axes>"
      ]
     },
     "metadata": {
      "needs_background": "light"
     },
     "output_type": "display_data"
    }
   ],
   "source": [
    "acc = hist.history['accuracy']\n",
    "val_acc = hist.history['val_accuracy']\n",
    "\n",
    "loss = hist.history['loss']\n",
    "val_loss = hist.history['val_loss']\n",
    "\n",
    "epochs_range = range(22)\n",
    "\n",
    "plt.figure(figsize=(12, 6))\n",
    "plt.subplot(1, 2, 1)\n",
    "plt.plot(epochs_range, acc, label='Training Accuracy')\n",
    "plt.plot(epochs_range, val_acc, label='Validation Accuracy')\n",
    "plt.legend(loc='lower right')\n",
    "plt.title('Training and Validation Accuracy')\n",
    "\n",
    "plt.subplot(1, 2, 2)\n",
    "plt.plot(epochs_range, loss, label='Training Loss')\n",
    "plt.plot(epochs_range, val_loss, label='Validation Loss')\n",
    "plt.legend(loc='upper right')\n",
    "plt.title('Training and Validation Loss')\n",
    "plt.show()"
   ]
  }
 ],
 "metadata": {
  "kernelspec": {
   "display_name": "Python 3",
   "language": "python",
   "name": "python3"
  },
  "language_info": {
   "codemirror_mode": {
    "name": "ipython",
    "version": 3
   },
   "file_extension": ".py",
   "mimetype": "text/x-python",
   "name": "python",
   "nbconvert_exporter": "python",
   "pygments_lexer": "ipython3",
   "version": "3.6.13"
  }
 },
 "nbformat": 4,
 "nbformat_minor": 5
}

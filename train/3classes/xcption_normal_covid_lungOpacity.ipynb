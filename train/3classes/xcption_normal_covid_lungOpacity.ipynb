{
 "cells": [
  {
   "cell_type": "code",
   "execution_count": 1,
   "id": "70054d76",
   "metadata": {},
   "outputs": [],
   "source": [
    "import os\n",
    "import zipfile\n",
    "import datetime\n",
    "from collections import Counter\n",
    "\n",
    "import sklearn\n",
    "import numpy as np\n",
    "import pandas as pd\n",
    "from sklearn.model_selection import StratifiedShuffleSplit\n",
    "import tensorflow as tf\n",
    "from tensorflow.keras.preprocessing.image import ImageDataGenerator\n",
    "from tensorflow import keras\n",
    "from tensorflow.keras import models,layers\n",
    "from tensorflow.keras.utils import plot_model\n",
    "from tensorflow.keras.callbacks import ReduceLROnPlateau, ModelCheckpoint, EarlyStopping\n",
    "from tensorflow.keras.models import Sequential, Model\n",
    "from tensorflow.keras.layers import Conv2D, MaxPooling2D, Input\n",
    "from tensorflow.keras.layers import Dense, Flatten, Dropout, BatchNormalization, Add, GlobalAveragePooling2D\n",
    "from tensorflow.keras.losses import categorical_crossentropy\n",
    "\n",
    "import matplotlib.pyplot as plt\n",
    "import PIL.Image\n",
    "from IPython.display import Image\n",
    "import matplotlib.pyplot as plt\n",
    "import pydot\n",
    "from tensorflow.python.client import device_lib\n",
    "import pathlib\n",
    "from tensorflow.keras.losses import binary_crossentropy\n",
    "from sklearn.metrics import classification_report,confusion_matrix, accuracy_score\n",
    "import random\n",
    "import importlib"
   ]
  },
  {
   "cell_type": "code",
   "execution_count": 2,
   "id": "4226c15a",
   "metadata": {},
   "outputs": [],
   "source": [
    "config = tf.compat.v1.ConfigProto( device_count = {'GPU': 1 , 'CPU': 56} ) \n",
    "sess = tf.compat.v1.Session(config=config) \n",
    "tf.compat.v1.keras.backend.set_session(sess)"
   ]
  },
  {
   "cell_type": "code",
   "execution_count": 3,
   "id": "7b18fe08",
   "metadata": {},
   "outputs": [
    {
     "name": "stdout",
     "output_type": "stream",
     "text": [
      "Found 11825 images belonging to 3 classes.\n"
     ]
    }
   ],
   "source": [
    "\"\"\"Data Augmentation\"\"\"\n",
    "train_data_gen = ImageDataGenerator(rescale=1./255 ,\n",
    "                                    zoom_range= 0.3, \n",
    "                                    horizontal_flip= True, \n",
    "                                    shear_range= 0.2,\n",
    "                                    rotation_range = 30\n",
    "                                    )\n",
    "\n",
    "train = train_data_gen.flow_from_directory(directory= '../datasets/based_dataset/Train',\n",
    "                                           class_mode = 'categorical',\n",
    "                                           batch_size=32,\n",
    "                                           target_size=(299,299))"
   ]
  },
  {
   "cell_type": "code",
   "execution_count": 4,
   "id": "b7621e22",
   "metadata": {},
   "outputs": [
    {
     "name": "stdout",
     "output_type": "stream",
     "text": [
      "Found 3698 images belonging to 3 classes.\n",
      "Found 2956 images belonging to 3 classes.\n"
     ]
    }
   ],
   "source": [
    "test_data_gen = ImageDataGenerator(rescale=1./255 )\n",
    "\n",
    "test = test_data_gen.flow_from_directory(directory= '../datasets/based_dataset/Test' , \n",
    "                                          target_size=(299,299), \n",
    "                                            class_mode = 'categorical',\n",
    "                                        shuffle=False,\n",
    "                                        batch_size=32)\n",
    "\n",
    "valid = test_data_gen.flow_from_directory(directory= '../datasets/based_dataset/Valid' , \n",
    "                                          target_size=(299,299), \n",
    "                                            class_mode = 'categorical',\n",
    "                                        shuffle=False,\n",
    "                                        batch_size=32)"
   ]
  },
  {
   "cell_type": "code",
   "execution_count": 5,
   "id": "18647339",
   "metadata": {},
   "outputs": [],
   "source": [
    "basenet = tf.keras.applications.xception.Xception(\n",
    "    include_top=False,\n",
    "    weights=\"imagenet\",\n",
    "    input_shape=(299,299,3) \n",
    ")"
   ]
  },
  {
   "cell_type": "code",
   "execution_count": 6,
   "id": "379292eb",
   "metadata": {},
   "outputs": [],
   "source": [
    "for layer in basenet.layers:           \n",
    "    layer.trainable = False"
   ]
  },
  {
   "cell_type": "code",
   "execution_count": 7,
   "id": "cfc0522d",
   "metadata": {},
   "outputs": [],
   "source": [
    "x = Flatten()(basenet.output)\n",
    "d1 = Dense(1024, activation= 'relu')(x)\n",
    "dr1 = Dropout(0.25)(d1)\n",
    "d2 = Dense(1024, activation= 'relu')(dr1)\n",
    "dr2 = Dropout(0.25)(d2)\n",
    "prediction= Dense(units=3 , activation='softmax')(dr2)\n",
    "model1 = Model(basenet.input,prediction)"
   ]
  },
  {
   "cell_type": "code",
   "execution_count": 8,
   "id": "b5125da5",
   "metadata": {},
   "outputs": [],
   "source": [
    "model1.compile(\n",
    "    optimizer = tf.keras.optimizers.Adam(0.001),\n",
    "    loss = 'categorical_crossentropy',\n",
    "    metrics = ['accuracy']\n",
    ")"
   ]
  },
  {
   "cell_type": "code",
   "execution_count": 9,
   "id": "365fab3e",
   "metadata": {},
   "outputs": [],
   "source": [
    "early = EarlyStopping(monitor='val_loss',patience=3)\n",
    "learning_rate_reduction = ReduceLROnPlateau(monitor='val_loss',patience = 2, verbose=1,factor=0.3, min_lr=0.000001)\n",
    "callbacks_list = [ early, learning_rate_reduction]"
   ]
  },
  {
   "cell_type": "code",
   "execution_count": 10,
   "id": "a2d13654",
   "metadata": {},
   "outputs": [
    {
     "name": "stdout",
     "output_type": "stream",
     "text": [
      "{0: 1.7033995966580235, 1: 1.0246079195910234, 2: 0.695915725047081}\n"
     ]
    },
    {
     "name": "stderr",
     "output_type": "stream",
     "text": [
      "C:\\Users\\amara\\anaconda3\\lib\\site-packages\\sklearn\\utils\\validation.py:72: FutureWarning: Pass classes=[0 1 2], y=[0 0 0 ... 2 2 2] as keyword args. From version 1.0 (renaming of 0.25) passing these as positional arguments will result in an error\n",
      "  \"will result in an error\", FutureWarning)\n"
     ]
    }
   ],
   "source": [
    "from sklearn.utils.class_weight import compute_class_weight\n",
    "weights = compute_class_weight('balanced',np.unique(train.classes), train.classes)\n",
    "cw = dict(zip( np.unique(train.classes), weights))\n",
    "print(cw)"
   ]
  },
  {
   "cell_type": "code",
   "execution_count": 11,
   "id": "046e65ec",
   "metadata": {},
   "outputs": [
    {
     "name": "stdout",
     "output_type": "stream",
     "text": [
      "WARNING:tensorflow:From C:\\Users\\amara\\AppData\\Roaming\\Python\\Python36\\site-packages\\tensorflow\\python\\ops\\array_ops.py:5049: calling gather (from tensorflow.python.ops.array_ops) with validate_indices is deprecated and will be removed in a future version.\n",
      "Instructions for updating:\n",
      "The `validate_indices` argument has no effect. Indices are always validated on CPU and never validated on GPU.\n",
      "Epoch 1/50\n",
      "370/370 [==============================] - ETA: 0s - loss: 1.9660 - accuracy: 0.6478WARNING:tensorflow:Your input ran out of data; interrupting training. Make sure that your dataset or generator can generate at least `steps_per_epoch * epochs` batches (in this case, 116 batches). You may need to use the repeat() function when building your dataset.\n",
      "370/370 [==============================] - 510s 1s/step - loss: 1.9660 - accuracy: 0.6478 - val_loss: 0.6549 - val_accuracy: 0.7483\n",
      "Epoch 2/50\n",
      "370/370 [==============================] - 697s 2s/step - loss: 0.7383 - accuracy: 0.7104\n",
      "WARNING:tensorflow:Early stopping conditioned on metric `val_loss` which is not available. Available metrics are: loss,accuracy\n",
      "WARNING:tensorflow:Learning rate reduction is conditioned on metric `val_loss` which is not available. Available metrics are: loss,accuracy,lr\n",
      "Epoch 3/50\n",
      "370/370 [==============================] - 705s 2s/step - loss: 0.7086 - accuracy: 0.7511\n",
      "WARNING:tensorflow:Early stopping conditioned on metric `val_loss` which is not available. Available metrics are: loss,accuracy\n",
      "WARNING:tensorflow:Learning rate reduction is conditioned on metric `val_loss` which is not available. Available metrics are: loss,accuracy,lr\n",
      "Epoch 4/50\n",
      "370/370 [==============================] - 709s 2s/step - loss: 0.6872 - accuracy: 0.7532\n",
      "WARNING:tensorflow:Early stopping conditioned on metric `val_loss` which is not available. Available metrics are: loss,accuracy\n",
      "WARNING:tensorflow:Learning rate reduction is conditioned on metric `val_loss` which is not available. Available metrics are: loss,accuracy,lr\n",
      "Epoch 5/50\n",
      "370/370 [==============================] - 716s 2s/step - loss: 0.6229 - accuracy: 0.7760\n",
      "WARNING:tensorflow:Early stopping conditioned on metric `val_loss` which is not available. Available metrics are: loss,accuracy\n",
      "WARNING:tensorflow:Learning rate reduction is conditioned on metric `val_loss` which is not available. Available metrics are: loss,accuracy,lr\n",
      "Epoch 6/50\n",
      "370/370 [==============================] - 711s 2s/step - loss: 0.5979 - accuracy: 0.7921\n",
      "WARNING:tensorflow:Early stopping conditioned on metric `val_loss` which is not available. Available metrics are: loss,accuracy\n",
      "WARNING:tensorflow:Learning rate reduction is conditioned on metric `val_loss` which is not available. Available metrics are: loss,accuracy,lr\n",
      "Epoch 7/50\n",
      "370/370 [==============================] - 710s 2s/step - loss: 0.5542 - accuracy: 0.8000\n",
      "WARNING:tensorflow:Early stopping conditioned on metric `val_loss` which is not available. Available metrics are: loss,accuracy\n",
      "WARNING:tensorflow:Learning rate reduction is conditioned on metric `val_loss` which is not available. Available metrics are: loss,accuracy,lr\n",
      "Epoch 8/50\n",
      "370/370 [==============================] - 455s 1s/step - loss: 0.5621 - accuracy: 0.8003\n",
      "WARNING:tensorflow:Early stopping conditioned on metric `val_loss` which is not available. Available metrics are: loss,accuracy\n",
      "WARNING:tensorflow:Learning rate reduction is conditioned on metric `val_loss` which is not available. Available metrics are: loss,accuracy,lr\n",
      "Epoch 9/50\n",
      "370/370 [==============================] - 208s 562ms/step - loss: 0.5332 - accuracy: 0.8091\n",
      "WARNING:tensorflow:Early stopping conditioned on metric `val_loss` which is not available. Available metrics are: loss,accuracy\n",
      "WARNING:tensorflow:Learning rate reduction is conditioned on metric `val_loss` which is not available. Available metrics are: loss,accuracy,lr\n",
      "Epoch 10/50\n",
      "370/370 [==============================] - 210s 566ms/step - loss: 0.5224 - accuracy: 0.8182\n",
      "WARNING:tensorflow:Early stopping conditioned on metric `val_loss` which is not available. Available metrics are: loss,accuracy\n",
      "WARNING:tensorflow:Learning rate reduction is conditioned on metric `val_loss` which is not available. Available metrics are: loss,accuracy,lr\n",
      "Epoch 11/50\n",
      "370/370 [==============================] - 209s 565ms/step - loss: 0.5263 - accuracy: 0.8069\n",
      "WARNING:tensorflow:Early stopping conditioned on metric `val_loss` which is not available. Available metrics are: loss,accuracy\n",
      "WARNING:tensorflow:Learning rate reduction is conditioned on metric `val_loss` which is not available. Available metrics are: loss,accuracy,lr\n",
      "Epoch 12/50\n",
      "370/370 [==============================] - 209s 565ms/step - loss: 0.5127 - accuracy: 0.8196\n",
      "WARNING:tensorflow:Early stopping conditioned on metric `val_loss` which is not available. Available metrics are: loss,accuracy\n",
      "WARNING:tensorflow:Learning rate reduction is conditioned on metric `val_loss` which is not available. Available metrics are: loss,accuracy,lr\n",
      "Epoch 13/50\n",
      "370/370 [==============================] - 208s 562ms/step - loss: 0.4924 - accuracy: 0.8253\n",
      "WARNING:tensorflow:Early stopping conditioned on metric `val_loss` which is not available. Available metrics are: loss,accuracy\n",
      "WARNING:tensorflow:Learning rate reduction is conditioned on metric `val_loss` which is not available. Available metrics are: loss,accuracy,lr\n",
      "Epoch 14/50\n",
      "370/370 [==============================] - 208s 562ms/step - loss: 0.4930 - accuracy: 0.8210\n",
      "WARNING:tensorflow:Early stopping conditioned on metric `val_loss` which is not available. Available metrics are: loss,accuracy\n",
      "WARNING:tensorflow:Learning rate reduction is conditioned on metric `val_loss` which is not available. Available metrics are: loss,accuracy,lr\n",
      "Epoch 15/50\n",
      "370/370 [==============================] - 208s 561ms/step - loss: 0.4793 - accuracy: 0.8233\n",
      "WARNING:tensorflow:Early stopping conditioned on metric `val_loss` which is not available. Available metrics are: loss,accuracy\n",
      "WARNING:tensorflow:Learning rate reduction is conditioned on metric `val_loss` which is not available. Available metrics are: loss,accuracy,lr\n",
      "Epoch 16/50\n",
      "370/370 [==============================] - 212s 573ms/step - loss: 0.4927 - accuracy: 0.8184\n",
      "WARNING:tensorflow:Early stopping conditioned on metric `val_loss` which is not available. Available metrics are: loss,accuracy\n",
      "WARNING:tensorflow:Learning rate reduction is conditioned on metric `val_loss` which is not available. Available metrics are: loss,accuracy,lr\n",
      "Epoch 17/50\n",
      "370/370 [==============================] - 214s 578ms/step - loss: 0.4835 - accuracy: 0.8245\n",
      "WARNING:tensorflow:Early stopping conditioned on metric `val_loss` which is not available. Available metrics are: loss,accuracy\n",
      "WARNING:tensorflow:Learning rate reduction is conditioned on metric `val_loss` which is not available. Available metrics are: loss,accuracy,lr\n",
      "Epoch 18/50\n",
      "370/370 [==============================] - 216s 583ms/step - loss: 0.4683 - accuracy: 0.8336\n",
      "WARNING:tensorflow:Early stopping conditioned on metric `val_loss` which is not available. Available metrics are: loss,accuracy\n",
      "WARNING:tensorflow:Learning rate reduction is conditioned on metric `val_loss` which is not available. Available metrics are: loss,accuracy,lr\n",
      "Epoch 19/50\n",
      "370/370 [==============================] - 217s 585ms/step - loss: 0.4872 - accuracy: 0.8232\n",
      "WARNING:tensorflow:Early stopping conditioned on metric `val_loss` which is not available. Available metrics are: loss,accuracy\n",
      "WARNING:tensorflow:Learning rate reduction is conditioned on metric `val_loss` which is not available. Available metrics are: loss,accuracy,lr\n",
      "Epoch 20/50\n",
      "370/370 [==============================] - 210s 566ms/step - loss: 0.4779 - accuracy: 0.8299\n",
      "WARNING:tensorflow:Early stopping conditioned on metric `val_loss` which is not available. Available metrics are: loss,accuracy\n",
      "WARNING:tensorflow:Learning rate reduction is conditioned on metric `val_loss` which is not available. Available metrics are: loss,accuracy,lr\n",
      "Epoch 21/50\n",
      "370/370 [==============================] - 206s 556ms/step - loss: 0.4780 - accuracy: 0.8246\n",
      "WARNING:tensorflow:Early stopping conditioned on metric `val_loss` which is not available. Available metrics are: loss,accuracy\n"
     ]
    },
    {
     "name": "stdout",
     "output_type": "stream",
     "text": [
      "WARNING:tensorflow:Learning rate reduction is conditioned on metric `val_loss` which is not available. Available metrics are: loss,accuracy,lr\n",
      "Epoch 22/50\n",
      "370/370 [==============================] - 205s 553ms/step - loss: 0.4621 - accuracy: 0.8340\n",
      "WARNING:tensorflow:Early stopping conditioned on metric `val_loss` which is not available. Available metrics are: loss,accuracy\n",
      "WARNING:tensorflow:Learning rate reduction is conditioned on metric `val_loss` which is not available. Available metrics are: loss,accuracy,lr\n",
      "Epoch 23/50\n",
      "370/370 [==============================] - 204s 551ms/step - loss: 0.4648 - accuracy: 0.8334\n",
      "WARNING:tensorflow:Early stopping conditioned on metric `val_loss` which is not available. Available metrics are: loss,accuracy\n",
      "WARNING:tensorflow:Learning rate reduction is conditioned on metric `val_loss` which is not available. Available metrics are: loss,accuracy,lr\n",
      "Epoch 24/50\n",
      "370/370 [==============================] - 204s 552ms/step - loss: 0.4827 - accuracy: 0.8278\n",
      "WARNING:tensorflow:Early stopping conditioned on metric `val_loss` which is not available. Available metrics are: loss,accuracy\n",
      "WARNING:tensorflow:Learning rate reduction is conditioned on metric `val_loss` which is not available. Available metrics are: loss,accuracy,lr\n",
      "Epoch 25/50\n",
      "370/370 [==============================] - 205s 553ms/step - loss: 0.4606 - accuracy: 0.8362\n",
      "WARNING:tensorflow:Early stopping conditioned on metric `val_loss` which is not available. Available metrics are: loss,accuracy\n",
      "WARNING:tensorflow:Learning rate reduction is conditioned on metric `val_loss` which is not available. Available metrics are: loss,accuracy,lr\n",
      "Epoch 26/50\n",
      "370/370 [==============================] - 206s 556ms/step - loss: 0.4697 - accuracy: 0.8316\n",
      "WARNING:tensorflow:Early stopping conditioned on metric `val_loss` which is not available. Available metrics are: loss,accuracy\n",
      "WARNING:tensorflow:Learning rate reduction is conditioned on metric `val_loss` which is not available. Available metrics are: loss,accuracy,lr\n",
      "Epoch 27/50\n",
      "370/370 [==============================] - 207s 558ms/step - loss: 0.4515 - accuracy: 0.8421\n",
      "WARNING:tensorflow:Early stopping conditioned on metric `val_loss` which is not available. Available metrics are: loss,accuracy\n",
      "WARNING:tensorflow:Learning rate reduction is conditioned on metric `val_loss` which is not available. Available metrics are: loss,accuracy,lr\n",
      "Epoch 28/50\n",
      "370/370 [==============================] - 203s 549ms/step - loss: 0.4646 - accuracy: 0.8360\n",
      "WARNING:tensorflow:Early stopping conditioned on metric `val_loss` which is not available. Available metrics are: loss,accuracy\n",
      "WARNING:tensorflow:Learning rate reduction is conditioned on metric `val_loss` which is not available. Available metrics are: loss,accuracy,lr\n",
      "Epoch 29/50\n",
      "370/370 [==============================] - 202s 546ms/step - loss: 0.4627 - accuracy: 0.8348\n",
      "WARNING:tensorflow:Early stopping conditioned on metric `val_loss` which is not available. Available metrics are: loss,accuracy\n",
      "WARNING:tensorflow:Learning rate reduction is conditioned on metric `val_loss` which is not available. Available metrics are: loss,accuracy,lr\n",
      "Epoch 30/50\n",
      "370/370 [==============================] - 202s 545ms/step - loss: 0.4514 - accuracy: 0.8362\n",
      "WARNING:tensorflow:Early stopping conditioned on metric `val_loss` which is not available. Available metrics are: loss,accuracy\n",
      "WARNING:tensorflow:Learning rate reduction is conditioned on metric `val_loss` which is not available. Available metrics are: loss,accuracy,lr\n",
      "Epoch 31/50\n",
      "370/370 [==============================] - 201s 543ms/step - loss: 0.4334 - accuracy: 0.8436\n",
      "WARNING:tensorflow:Early stopping conditioned on metric `val_loss` which is not available. Available metrics are: loss,accuracy\n",
      "WARNING:tensorflow:Learning rate reduction is conditioned on metric `val_loss` which is not available. Available metrics are: loss,accuracy,lr\n",
      "Epoch 32/50\n",
      "370/370 [==============================] - 202s 545ms/step - loss: 0.4279 - accuracy: 0.8464\n",
      "WARNING:tensorflow:Early stopping conditioned on metric `val_loss` which is not available. Available metrics are: loss,accuracy\n",
      "WARNING:tensorflow:Learning rate reduction is conditioned on metric `val_loss` which is not available. Available metrics are: loss,accuracy,lr\n",
      "Epoch 33/50\n",
      "370/370 [==============================] - 201s 541ms/step - loss: 0.4419 - accuracy: 0.8472\n",
      "WARNING:tensorflow:Early stopping conditioned on metric `val_loss` which is not available. Available metrics are: loss,accuracy\n",
      "WARNING:tensorflow:Learning rate reduction is conditioned on metric `val_loss` which is not available. Available metrics are: loss,accuracy,lr\n",
      "Epoch 34/50\n",
      "370/370 [==============================] - 201s 542ms/step - loss: 0.4516 - accuracy: 0.8467\n",
      "WARNING:tensorflow:Early stopping conditioned on metric `val_loss` which is not available. Available metrics are: loss,accuracy\n",
      "WARNING:tensorflow:Learning rate reduction is conditioned on metric `val_loss` which is not available. Available metrics are: loss,accuracy,lr\n",
      "Epoch 35/50\n",
      "370/370 [==============================] - 201s 544ms/step - loss: 0.4406 - accuracy: 0.8490\n",
      "WARNING:tensorflow:Early stopping conditioned on metric `val_loss` which is not available. Available metrics are: loss,accuracy\n",
      "WARNING:tensorflow:Learning rate reduction is conditioned on metric `val_loss` which is not available. Available metrics are: loss,accuracy,lr\n",
      "Epoch 36/50\n",
      "370/370 [==============================] - 201s 543ms/step - loss: 0.4585 - accuracy: 0.8463\n",
      "WARNING:tensorflow:Early stopping conditioned on metric `val_loss` which is not available. Available metrics are: loss,accuracy\n",
      "WARNING:tensorflow:Learning rate reduction is conditioned on metric `val_loss` which is not available. Available metrics are: loss,accuracy,lr\n",
      "Epoch 37/50\n",
      "370/370 [==============================] - 201s 543ms/step - loss: 0.4401 - accuracy: 0.8460\n",
      "WARNING:tensorflow:Early stopping conditioned on metric `val_loss` which is not available. Available metrics are: loss,accuracy\n",
      "WARNING:tensorflow:Learning rate reduction is conditioned on metric `val_loss` which is not available. Available metrics are: loss,accuracy,lr\n",
      "Epoch 38/50\n",
      "370/370 [==============================] - 201s 541ms/step - loss: 0.4438 - accuracy: 0.8410\n",
      "WARNING:tensorflow:Early stopping conditioned on metric `val_loss` which is not available. Available metrics are: loss,accuracy\n",
      "WARNING:tensorflow:Learning rate reduction is conditioned on metric `val_loss` which is not available. Available metrics are: loss,accuracy,lr\n",
      "Epoch 39/50\n",
      "370/370 [==============================] - 201s 545ms/step - loss: 0.4460 - accuracy: 0.8446\n",
      "WARNING:tensorflow:Early stopping conditioned on metric `val_loss` which is not available. Available metrics are: loss,accuracy\n",
      "WARNING:tensorflow:Learning rate reduction is conditioned on metric `val_loss` which is not available. Available metrics are: loss,accuracy,lr\n",
      "Epoch 40/50\n",
      "370/370 [==============================] - 204s 552ms/step - loss: 0.4278 - accuracy: 0.8494\n",
      "WARNING:tensorflow:Early stopping conditioned on metric `val_loss` which is not available. Available metrics are: loss,accuracy\n",
      "WARNING:tensorflow:Learning rate reduction is conditioned on metric `val_loss` which is not available. Available metrics are: loss,accuracy,lr\n",
      "Epoch 41/50\n",
      "370/370 [==============================] - 208s 561ms/step - loss: 0.4237 - accuracy: 0.8452\n",
      "WARNING:tensorflow:Early stopping conditioned on metric `val_loss` which is not available. Available metrics are: loss,accuracy\n",
      "WARNING:tensorflow:Learning rate reduction is conditioned on metric `val_loss` which is not available. Available metrics are: loss,accuracy,lr\n",
      "Epoch 42/50\n",
      "370/370 [==============================] - 208s 562ms/step - loss: 0.4432 - accuracy: 0.8445\n",
      "WARNING:tensorflow:Early stopping conditioned on metric `val_loss` which is not available. Available metrics are: loss,accuracy\n",
      "WARNING:tensorflow:Learning rate reduction is conditioned on metric `val_loss` which is not available. Available metrics are: loss,accuracy,lr\n",
      "Epoch 43/50\n",
      "370/370 [==============================] - 208s 561ms/step - loss: 0.4219 - accuracy: 0.8521\n",
      "WARNING:tensorflow:Early stopping conditioned on metric `val_loss` which is not available. Available metrics are: loss,accuracy\n"
     ]
    },
    {
     "name": "stdout",
     "output_type": "stream",
     "text": [
      "WARNING:tensorflow:Learning rate reduction is conditioned on metric `val_loss` which is not available. Available metrics are: loss,accuracy,lr\n",
      "Epoch 44/50\n",
      "370/370 [==============================] - 207s 559ms/step - loss: 0.4265 - accuracy: 0.8474\n",
      "WARNING:tensorflow:Early stopping conditioned on metric `val_loss` which is not available. Available metrics are: loss,accuracy\n",
      "WARNING:tensorflow:Learning rate reduction is conditioned on metric `val_loss` which is not available. Available metrics are: loss,accuracy,lr\n",
      "Epoch 45/50\n",
      "370/370 [==============================] - 207s 560ms/step - loss: 0.4525 - accuracy: 0.8462\n",
      "WARNING:tensorflow:Early stopping conditioned on metric `val_loss` which is not available. Available metrics are: loss,accuracy\n",
      "WARNING:tensorflow:Learning rate reduction is conditioned on metric `val_loss` which is not available. Available metrics are: loss,accuracy,lr\n",
      "Epoch 46/50\n",
      "370/370 [==============================] - 207s 558ms/step - loss: 0.4520 - accuracy: 0.8415\n",
      "WARNING:tensorflow:Early stopping conditioned on metric `val_loss` which is not available. Available metrics are: loss,accuracy\n",
      "WARNING:tensorflow:Learning rate reduction is conditioned on metric `val_loss` which is not available. Available metrics are: loss,accuracy,lr\n",
      "Epoch 47/50\n",
      "370/370 [==============================] - 207s 558ms/step - loss: 0.4292 - accuracy: 0.8500\n",
      "WARNING:tensorflow:Early stopping conditioned on metric `val_loss` which is not available. Available metrics are: loss,accuracy\n",
      "WARNING:tensorflow:Learning rate reduction is conditioned on metric `val_loss` which is not available. Available metrics are: loss,accuracy,lr\n",
      "Epoch 48/50\n",
      "370/370 [==============================] - 213s 574ms/step - loss: 0.4199 - accuracy: 0.8527\n",
      "WARNING:tensorflow:Early stopping conditioned on metric `val_loss` which is not available. Available metrics are: loss,accuracy\n",
      "WARNING:tensorflow:Learning rate reduction is conditioned on metric `val_loss` which is not available. Available metrics are: loss,accuracy,lr\n",
      "Epoch 49/50\n",
      "370/370 [==============================] - 201s 541ms/step - loss: 0.4014 - accuracy: 0.8595\n",
      "WARNING:tensorflow:Early stopping conditioned on metric `val_loss` which is not available. Available metrics are: loss,accuracy\n",
      "WARNING:tensorflow:Learning rate reduction is conditioned on metric `val_loss` which is not available. Available metrics are: loss,accuracy,lr\n",
      "Epoch 50/50\n",
      "370/370 [==============================] - 197s 533ms/step - loss: 0.4259 - accuracy: 0.8496\n",
      "WARNING:tensorflow:Early stopping conditioned on metric `val_loss` which is not available. Available metrics are: loss,accuracy\n",
      "WARNING:tensorflow:Learning rate reduction is conditioned on metric `val_loss` which is not available. Available metrics are: loss,accuracy,lr\n"
     ]
    }
   ],
   "source": [
    "hist = model1.fit(train, steps_per_epoch= len(train), epochs= 50,batch_size=32, validation_data= valid,class_weight=cw,validation_steps= len(test), callbacks=callbacks_list)"
   ]
  },
  {
   "cell_type": "code",
   "execution_count": 12,
   "id": "4ee6efca",
   "metadata": {},
   "outputs": [
    {
     "name": "stderr",
     "output_type": "stream",
     "text": [
      "C:\\Users\\amara\\AppData\\Roaming\\Python\\Python36\\site-packages\\tensorflow\\python\\keras\\utils\\generic_utils.py:497: CustomMaskWarning: Custom mask layers require a config and must override get_config. When loading, the custom mask layer must be passed to the custom_objects argument.\n",
      "  category=CustomMaskWarning)\n"
     ]
    },
    {
     "name": "stdout",
     "output_type": "stream",
     "text": [
      "INFO:tensorflow:Assets written to: xception_Normal_Covid_LungOpacity\\assets\n"
     ]
    }
   ],
   "source": [
    "model1.save('xception_Normal_Covid_LungOpacity')"
   ]
  },
  {
   "cell_type": "code",
   "execution_count": 13,
   "id": "14751a9a",
   "metadata": {},
   "outputs": [
    {
     "name": "stdout",
     "output_type": "stream",
     "text": [
      "116/116 [==============================] - 28s 241ms/step - loss: 0.4037 - accuracy: 0.8648\n",
      "The testing accuracy is : 86.4791750907898 %\n"
     ]
    }
   ],
   "source": [
    "test_accu = model1.evaluate(test)\n",
    "print('The testing accuracy is :',test_accu[1]*100, '%')"
   ]
  },
  {
   "cell_type": "code",
   "execution_count": 14,
   "id": "497169cd",
   "metadata": {},
   "outputs": [
    {
     "name": "stdout",
     "output_type": "stream",
     "text": [
      "116/116 [==============================] - 28s 232ms/step\n"
     ]
    }
   ],
   "source": [
    "pred = model1.predict(test,verbose=1)"
   ]
  },
  {
   "cell_type": "code",
   "execution_count": 15,
   "id": "119e6b01",
   "metadata": {},
   "outputs": [],
   "source": [
    "predictions = np.argmax(pred, axis = -1)"
   ]
  },
  {
   "cell_type": "code",
   "execution_count": 16,
   "id": "42ec8e61",
   "metadata": {},
   "outputs": [
    {
     "name": "stdout",
     "output_type": "stream",
     "text": [
      "              precision    recall  f1-score   support\n",
      "\n",
      "      NORMAL       0.89      0.75      0.81       724\n",
      "       COVID       0.88      0.82      0.85      1203\n",
      "Lung Opacity       0.85      0.95      0.90      1771\n",
      "\n",
      "    accuracy                           0.86      3698\n",
      "   macro avg       0.87      0.84      0.85      3698\n",
      "weighted avg       0.87      0.86      0.86      3698\n",
      "\n"
     ]
    }
   ],
   "source": [
    "print(classification_report(y_true=test.classes,y_pred=predictions,target_names =['NORMAL','COVID', 'Lung Opacity']))"
   ]
  },
  {
   "cell_type": "code",
   "execution_count": 17,
   "id": "9933712e",
   "metadata": {},
   "outputs": [],
   "source": [
    "from sklearn.metrics import precision_recall_fscore_support, accuracy_score\n",
    "import seaborn as sns"
   ]
  },
  {
   "cell_type": "code",
   "execution_count": 18,
   "id": "bcb2704b",
   "metadata": {},
   "outputs": [],
   "source": [
    "y_true=test.classes"
   ]
  },
  {
   "cell_type": "code",
   "execution_count": 19,
   "id": "aef8f88e",
   "metadata": {},
   "outputs": [
    {
     "name": "stdout",
     "output_type": "stream",
     "text": [
      "**Overall Results**\n",
      "Accuracy Result: 86.48%\n",
      "Precision Result: 87.61%\n",
      "Recall Result: 81.71%\n",
      "F-Score Result: 84.56%\n"
     ]
    },
    {
     "data": {
      "image/png": "[encoded data removed]",
      "text/plain": [
       "<Figure size 1584x720 with 1 Axes>"
      ]
     },
     "metadata": {
      "needs_background": "light"
     },
     "output_type": "display_data"
    },
    {
     "data": {
      "image/png": "[encoded data removed]",
      "text/plain": [
       "<Figure size 1584x720 with 1 Axes>"
      ]
     },
     "metadata": {
      "needs_background": "light"
     },
     "output_type": "display_data"
    },
    {
     "data": {
      "image/png": "[encoded data removed]",
      "text/plain": [
       "<Figure size 1584x720 with 1 Axes>"
      ]
     },
     "metadata": {
      "needs_background": "light"
     },
     "output_type": "display_data"
    }
   ],
   "source": [
    "#Accuracy Result\n",
    "acc = accuracy_score(y_true, predictions)\n",
    "#Precision, Recall and F-Score (For the whole dataset)\n",
    "results_all = precision_recall_fscore_support(y_true, predictions, average='macro',zero_division = 1)\n",
    "#Precision, Recall and F-Score (For each Class)\n",
    "results_class = precision_recall_fscore_support(y_true, predictions, average=None, zero_division = 1)\n",
    "\n",
    "#Organise the Results into a Dataframe\n",
    "metric_columns = ['Precision','Recall', 'F-Score','S']\n",
    "all_df = pd.concat([pd.DataFrame(list(results_class)).T,pd.DataFrame(list(results_all)).T])\n",
    "all_df.columns = metric_columns\n",
    "all_df.index = ['COVID','Normal','Lung Opacity','Total']\n",
    "\n",
    "#Function to plot the metrics into a nice bar Plot\n",
    "def metrics_plot(df,metric):\n",
    "    plt.figure(figsize=(22,10))\n",
    "    ax = sns.barplot(data =df, x=df.index, y = metric,palette = \"Blues_d\")\n",
    "    #Bar Labels\n",
    "    for p in ax.patches:\n",
    "        ax.annotate(\"%.1f%%\" % (100*p.get_height()), (p.get_x() + p.get_width() / 2., abs(p.get_height())),\n",
    "        ha='center', va='bottom', color='black', xytext=(-3, 5),rotation = 'horizontal',textcoords='offset points')\n",
    "    sns.despine(top=True, right=True, left=True, bottom=False)\n",
    "    ax.set_xlabel('Class',fontsize = 14,weight = 'bold')\n",
    "    ax.set_ylabel(metric,fontsize = 14,weight = 'bold')\n",
    "    ax.set(yticklabels=[])\n",
    "    ax.axes.get_yaxis().set_visible(False) \n",
    "    plt.title(metric+ ' Results per Class', fontsize = 16,weight = 'bold');\n",
    "    \n",
    "metrics_plot(all_df, 'Precision')#Results by Class\n",
    "metrics_plot(all_df, 'Recall')#Results by Class\n",
    "metrics_plot(all_df, 'F-Score')#Results by Class\n",
    "print('**Overall Results**')\n",
    "print('Accuracy Result: %.2f%%'%(acc*100)) #Accuracy of the whole Dataset\n",
    "print('Precision Result: %.2f%%'%(all_df.iloc[1,0]*100))#Precision of the whole Dataset\n",
    "print('Recall Result: %.2f%%'%(all_df.iloc[1,1]*100))#Recall of the whole Dataset\n",
    "print('F-Score Result: %.2f%%'%(all_df.iloc[1,2]*100))#F-Score of the whole Dataset"
   ]
  },
  {
   "cell_type": "code",
   "execution_count": 20,
   "id": "154f1606",
   "metadata": {},
   "outputs": [
    {
     "data": {
      "text/plain": [
       "<AxesSubplot:>"
      ]
     },
     "execution_count": 20,
     "metadata": {},
     "output_type": "execute_result"
    },
    {
     "data": {
      "image/png": "[encoded data removed]",
      "text/plain": [
       "<Figure size 432x288 with 2 Axes>"
      ]
     },
     "metadata": {
      "needs_background": "light"
     },
     "output_type": "display_data"
    }
   ],
   "source": [
    "from sklearn.metrics import classification_report,confusion_matrix\n",
    "cm = pd.DataFrame(data=confusion_matrix(test.classes, predictions),index=[\"Actual Normal\", \"Actual COVID\", \"Actual Lung Opacity\"],\n",
    "columns=[\"Predicted Normal\", \"Predicted COVID\",\"Predicted Lung Opacity\"])\n",
    "import seaborn as sns\n",
    "sns.heatmap(cm,annot=True,fmt=\"d\")"
   ]
  },
  {
   "cell_type": "code",
   "execution_count": 21,
   "id": "ea4d54fa",
   "metadata": {},
   "outputs": [
    {
     "data": {
      "image/png": "[encoded data removed]",
      "text/plain": [
       "<Figure size 864x432 with 2 Axes>"
      ]
     },
     "metadata": {
      "needs_background": "light"
     },
     "output_type": "display_data"
    }
   ],
   "source": [
    "acc = hist.history['accuracy']\n",
    "val_acc = hist.history['val_accuracy']\n",
    "\n",
    "loss = hist.history['loss']\n",
    "val_loss = hist.history['val_loss']\n",
    "\n",
    "epochs_range = range(50)\n",
    "\n",
    "plt.figure(figsize=(12, 6))\n",
    "plt.subplot(1, 2, 1)\n",
    "plt.plot(epochs_range, acc, label='Training Accuracy')\n",
    "\n",
    "plt.legend(loc='lower right')\n",
    "plt.title('Training Accuracy')\n",
    "\n",
    "plt.subplot(1, 2, 2)\n",
    "plt.plot(epochs_range, loss, label='Training Loss')\n",
    "\n",
    "plt.legend(loc='upper right')\n",
    "plt.title('Training Loss')\n",
    "plt.show()"
   ]
  }
 ],
 "metadata": {
  "kernelspec": {
   "display_name": "Python 3",
   "language": "python",
   "name": "python3"
  },
  "language_info": {
   "codemirror_mode": {
    "name": "ipython",
    "version": 3
   },
   "file_extension": ".py",
   "mimetype": "text/x-python",
   "name": "python",
   "nbconvert_exporter": "python",
   "pygments_lexer": "ipython3",
   "version": "3.6.13"
  }
 },
 "nbformat": 4,
 "nbformat_minor": 5
}

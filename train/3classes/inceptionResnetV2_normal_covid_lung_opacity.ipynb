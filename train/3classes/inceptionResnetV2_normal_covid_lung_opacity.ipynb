{
 "cells": [
  {
   "cell_type": "code",
   "execution_count": 1,
   "id": "59400ee4",
   "metadata": {},
   "outputs": [],
   "source": [
    "import os\n",
    "import zipfile\n",
    "import datetime\n",
    "from collections import Counter\n",
    "\n",
    "import sklearn\n",
    "import numpy as np\n",
    "import pandas as pd\n",
    "from sklearn.model_selection import StratifiedShuffleSplit\n",
    "import tensorflow as tf\n",
    "from tensorflow.keras.preprocessing.image import ImageDataGenerator\n",
    "from tensorflow import keras\n",
    "from tensorflow.keras import models,layers\n",
    "from tensorflow.keras.utils import plot_model\n",
    "from tensorflow.keras.callbacks import ReduceLROnPlateau, ModelCheckpoint, EarlyStopping\n",
    "from tensorflow.keras.models import Sequential, Model\n",
    "from tensorflow.keras.layers import Conv2D, MaxPooling2D, Input\n",
    "from tensorflow.keras.layers import Dense, Flatten, Dropout, BatchNormalization, Add, GlobalAveragePooling2D\n",
    "from tensorflow.keras.losses import categorical_crossentropy\n",
    "\n",
    "import matplotlib.pyplot as plt\n",
    "import PIL.Image\n",
    "from IPython.display import Image\n",
    "import matplotlib.pyplot as plt\n",
    "import pydot\n",
    "from tensorflow.python.client import device_lib\n",
    "import pathlib\n",
    "from tensorflow.keras.losses import binary_crossentropy\n",
    "from sklearn.metrics import classification_report,confusion_matrix, accuracy_score\n",
    "import random\n",
    "import importlib"
   ]
  },
  {
   "cell_type": "code",
   "execution_count": 2,
   "id": "ab905357",
   "metadata": {},
   "outputs": [],
   "source": [
    "config = tf.compat.v1.ConfigProto( device_count = {'GPU': 1 , 'CPU': 56} ) \n",
    "sess = tf.compat.v1.Session(config=config) \n",
    "tf.compat.v1.keras.backend.set_session(sess)"
   ]
  },
  {
   "cell_type": "code",
   "execution_count": 3,
   "id": "baedc47f",
   "metadata": {},
   "outputs": [
    {
     "name": "stdout",
     "output_type": "stream",
     "text": [
      "Found 11825 images belonging to 3 classes.\n"
     ]
    }
   ],
   "source": [
    "\"\"\"Data Augmentation\"\"\"\n",
    "train_data_gen = ImageDataGenerator(rescale=1./255 ,\n",
    "                                    zoom_range= 0.3, \n",
    "                                    horizontal_flip= True, \n",
    "                                    shear_range= 0.2,\n",
    "                                    rotation_range = 30\n",
    "                                    )\n",
    "\n",
    "train = train_data_gen.flow_from_directory(directory= '../datasets/based_dataset/Train',\n",
    "                                           class_mode = 'categorical',\n",
    "                                           batch_size=64,\n",
    "                                           target_size=(224,224))"
   ]
  },
  {
   "cell_type": "code",
   "execution_count": 4,
   "id": "d492431a",
   "metadata": {},
   "outputs": [
    {
     "name": "stdout",
     "output_type": "stream",
     "text": [
      "Found 3698 images belonging to 3 classes.\n",
      "Found 2956 images belonging to 3 classes.\n"
     ]
    }
   ],
   "source": [
    "test_data_gen = ImageDataGenerator(rescale=1./255 )\n",
    "\n",
    "test = test_data_gen.flow_from_directory(directory= '../datasets/based_dataset/Test' , \n",
    "                                          target_size=(224,224), \n",
    "                                            class_mode = 'categorical',\n",
    "                                        shuffle=False,\n",
    "                                        batch_size=64)\n",
    "\n",
    "valid = test_data_gen.flow_from_directory(directory= '../datasets/based_dataset/Valid' , \n",
    "                                          target_size=(224,224), \n",
    "                                            class_mode = 'categorical',\n",
    "                                        shuffle=False,\n",
    "                                        batch_size=64)"
   ]
  },
  {
   "cell_type": "code",
   "execution_count": 5,
   "id": "6dd38c27",
   "metadata": {},
   "outputs": [],
   "source": [
    "inc = tf.keras.applications.InceptionResNetV2(\n",
    "    include_top = False,\n",
    "    weights = 'imagenet',\n",
    "    input_shape = (224,224,3),\n",
    ")"
   ]
  },
  {
   "cell_type": "code",
   "execution_count": 6,
   "id": "3a979fac",
   "metadata": {},
   "outputs": [],
   "source": [
    "for layer in inc.layers:           \n",
    "    layer.trainable = False"
   ]
  },
  {
   "cell_type": "code",
   "execution_count": 7,
   "id": "63781317",
   "metadata": {},
   "outputs": [],
   "source": [
    "x = Flatten()(inc.output)\n",
    "d1 = Dense(1024, activation= 'relu')(x)\n",
    "\n",
    "d2 = Dense(1024, activation= 'relu')(d1)\n",
    "\n",
    "prediction= Dense(units=3 , activation='softmax')(d2)\n",
    "\n",
    "modelv2 = Model(inc.input,prediction)"
   ]
  },
  {
   "cell_type": "code",
   "execution_count": 8,
   "id": "241b7eeb",
   "metadata": {},
   "outputs": [],
   "source": [
    "modelv2.compile(\n",
    "    optimizer = tf.keras.optimizers.Adam(0.001),\n",
    "    loss = 'categorical_crossentropy',\n",
    "    metrics = ['accuracy']\n",
    ")"
   ]
  },
  {
   "cell_type": "code",
   "execution_count": 9,
   "id": "62991cc0",
   "metadata": {},
   "outputs": [],
   "source": [
    "early = EarlyStopping(monitor='accuracy', patience=3)\n",
    "learning_rate_reduction = ReduceLROnPlateau(monitor='accuracy', patience = 2, verbose=1,factor=0.3, min_lr=0.000001)\n",
    "callbacks_list = [ early, learning_rate_reduction]"
   ]
  },
  {
   "cell_type": "code",
   "execution_count": 10,
   "id": "ba0cf844",
   "metadata": {},
   "outputs": [
    {
     "name": "stdout",
     "output_type": "stream",
     "text": [
      "{0: 1.7033995966580235, 1: 1.0246079195910234, 2: 0.695915725047081}\n"
     ]
    },
    {
     "name": "stderr",
     "output_type": "stream",
     "text": [
      "C:\\Users\\amara\\anaconda3\\lib\\site-packages\\sklearn\\utils\\validation.py:72: FutureWarning: Pass classes=[0 1 2], y=[0 0 0 ... 2 2 2] as keyword args. From version 1.0 (renaming of 0.25) passing these as positional arguments will result in an error\n",
      "  \"will result in an error\", FutureWarning)\n"
     ]
    }
   ],
   "source": [
    "from sklearn.utils.class_weight import compute_class_weight\n",
    "weights = compute_class_weight('balanced',np.unique(train.classes), train.classes)\n",
    "cw = dict(zip( np.unique(train.classes), weights))\n",
    "print(cw)"
   ]
  },
  {
   "cell_type": "code",
   "execution_count": 11,
   "id": "0fc3b75a",
   "metadata": {},
   "outputs": [
    {
     "name": "stdout",
     "output_type": "stream",
     "text": [
      "WARNING:tensorflow:From C:\\Users\\amara\\AppData\\Roaming\\Python\\Python36\\site-packages\\tensorflow\\python\\ops\\array_ops.py:5049: calling gather (from tensorflow.python.ops.array_ops) with validate_indices is deprecated and will be removed in a future version.\n",
      "Instructions for updating:\n",
      "The `validate_indices` argument has no effect. Indices are always validated on CPU and never validated on GPU.\n",
      "Epoch 1/50\n",
      "185/185 [==============================] - ETA: 0s - loss: 3.4344 - accuracy: 0.6874WARNING:tensorflow:Your input ran out of data; interrupting training. Make sure that your dataset or generator can generate at least `steps_per_epoch * epochs` batches (in this case, 58 batches). You may need to use the repeat() function when building your dataset.\n",
      "185/185 [==============================] - 135s 661ms/step - loss: 3.4344 - accuracy: 0.6874 - val_loss: 0.4777 - val_accuracy: 0.8153\n",
      "Epoch 2/50\n",
      "185/185 [==============================] - 178s 965ms/step - loss: 0.6118 - accuracy: 0.7654\n",
      "Epoch 3/50\n",
      "185/185 [==============================] - 290s 2s/step - loss: 0.5445 - accuracy: 0.7910\n",
      "Epoch 4/50\n",
      "185/185 [==============================] - 344s 2s/step - loss: 0.5267 - accuracy: 0.7949\n",
      "Epoch 5/50\n",
      "185/185 [==============================] - 348s 2s/step - loss: 0.4971 - accuracy: 0.8113\n",
      "Epoch 6/50\n",
      "185/185 [==============================] - 262s 1s/step - loss: 0.4614 - accuracy: 0.8298\n",
      "Epoch 7/50\n",
      "185/185 [==============================] - 125s 676ms/step - loss: 0.4619 - accuracy: 0.8285\n",
      "Epoch 8/50\n",
      "185/185 [==============================] - 135s 730ms/step - loss: 0.4593 - accuracy: 0.8294\n",
      "\n",
      "Epoch 00008: ReduceLROnPlateau reducing learning rate to 0.0003000000142492354.\n",
      "Epoch 9/50\n",
      "185/185 [==============================] - 137s 740ms/step - loss: 0.3964 - accuracy: 0.8532\n",
      "Epoch 10/50\n",
      "185/185 [==============================] - 143s 773ms/step - loss: 0.3879 - accuracy: 0.8527\n",
      "Epoch 11/50\n",
      "185/185 [==============================] - 146s 788ms/step - loss: 0.3761 - accuracy: 0.8611\n",
      "Epoch 12/50\n",
      "185/185 [==============================] - 144s 777ms/step - loss: 0.3721 - accuracy: 0.8578\n",
      "Epoch 13/50\n",
      "185/185 [==============================] - 147s 795ms/step - loss: 0.3667 - accuracy: 0.8643\n",
      "Epoch 14/50\n",
      "185/185 [==============================] - 146s 788ms/step - loss: 0.3594 - accuracy: 0.8668\n",
      "Epoch 15/50\n",
      "185/185 [==============================] - 144s 777ms/step - loss: 0.3585 - accuracy: 0.8638\n",
      "Epoch 16/50\n",
      "185/185 [==============================] - 148s 799ms/step - loss: 0.3547 - accuracy: 0.8673\n",
      "Epoch 17/50\n",
      "185/185 [==============================] - 140s 754ms/step - loss: 0.3460 - accuracy: 0.8682\n",
      "Epoch 18/50\n",
      "185/185 [==============================] - 144s 777ms/step - loss: 0.3512 - accuracy: 0.8660\n",
      "Epoch 19/50\n",
      "185/185 [==============================] - 143s 771ms/step - loss: 0.3433 - accuracy: 0.8662\n",
      "\n",
      "Epoch 00019: ReduceLROnPlateau reducing learning rate to 9.000000427477062e-05.\n",
      "Epoch 20/50\n",
      "185/185 [==============================] - 142s 765ms/step - loss: 0.3213 - accuracy: 0.8777\n",
      "Epoch 21/50\n",
      "185/185 [==============================] - 143s 772ms/step - loss: 0.3249 - accuracy: 0.8751\n",
      "Epoch 22/50\n",
      "185/185 [==============================] - 138s 746ms/step - loss: 0.3056 - accuracy: 0.8836\n",
      "Epoch 23/50\n",
      "185/185 [==============================] - 141s 761ms/step - loss: 0.3088 - accuracy: 0.8852\n",
      "Epoch 24/50\n",
      "185/185 [==============================] - 138s 745ms/step - loss: 0.2989 - accuracy: 0.8869\n",
      "Epoch 25/50\n",
      "185/185 [==============================] - 139s 749ms/step - loss: 0.2933 - accuracy: 0.8871\n",
      "Epoch 26/50\n",
      "185/185 [==============================] - 141s 759ms/step - loss: 0.3021 - accuracy: 0.8824\n",
      "Epoch 27/50\n",
      "185/185 [==============================] - 140s 756ms/step - loss: 0.2984 - accuracy: 0.8867\n",
      "\n",
      "Epoch 00027: ReduceLROnPlateau reducing learning rate to 2.700000040931627e-05.\n",
      "Epoch 28/50\n",
      "185/185 [==============================] - 141s 760ms/step - loss: 0.2833 - accuracy: 0.8910\n",
      "Epoch 29/50\n",
      "185/185 [==============================] - 143s 774ms/step - loss: 0.2875 - accuracy: 0.8913\n",
      "Epoch 30/50\n",
      "185/185 [==============================] - 140s 755ms/step - loss: 0.2878 - accuracy: 0.8872\n",
      "Epoch 31/50\n",
      "185/185 [==============================] - 139s 750ms/step - loss: 0.2823 - accuracy: 0.8907\n",
      "\n",
      "Epoch 00031: ReduceLROnPlateau reducing learning rate to 8.100000013655517e-06.\n",
      "Epoch 32/50\n",
      "185/185 [==============================] - 139s 752ms/step - loss: 0.2897 - accuracy: 0.8901\n"
     ]
    }
   ],
   "source": [
    "hist = modelv2.fit(train, steps_per_epoch= len(train), epochs= 50, validation_data= valid,class_weight=cw,validation_steps= len(test), callbacks=callbacks_list)"
   ]
  },
  {
   "cell_type": "code",
   "execution_count": 12,
   "id": "e6719912",
   "metadata": {},
   "outputs": [
    {
     "name": "stdout",
     "output_type": "stream",
     "text": [
      "58/58 [==============================] - 24s 420ms/step - loss: 0.3230 - accuracy: 0.8794\n",
      "The testing accuracy is : 87.93942928314209 %\n"
     ]
    }
   ],
   "source": [
    "test_accuracy = modelv2.evaluate(test)\n",
    "print('The testing accuracy is :',test_accuracy[1]*100, '%')"
   ]
  },
  {
   "cell_type": "code",
   "execution_count": 13,
   "id": "7e40f9b1",
   "metadata": {},
   "outputs": [
    {
     "name": "stdout",
     "output_type": "stream",
     "text": [
      "INFO:tensorflow:Assets written to: inceptionResetv2_normal_covid_lungOpacity\\assets\n"
     ]
    }
   ],
   "source": [
    "modelv2.save('inceptionResetv2_normal_covid_lungOpacity')"
   ]
  },
  {
   "cell_type": "code",
   "execution_count": 14,
   "id": "d12232b4",
   "metadata": {},
   "outputs": [
    {
     "name": "stdout",
     "output_type": "stream",
     "text": [
      "58/58 [==============================] - 23s 317ms/step\n"
     ]
    }
   ],
   "source": [
    "preds = modelv2.predict(test,verbose=1)"
   ]
  },
  {
   "cell_type": "code",
   "execution_count": 15,
   "id": "9cdd4b94",
   "metadata": {},
   "outputs": [],
   "source": [
    "prediction = preds.copy"
   ]
  },
  {
   "cell_type": "code",
   "execution_count": 16,
   "id": "f58bc5d6",
   "metadata": {},
   "outputs": [],
   "source": [
    "predictions = np.argmax(preds, axis = -1)"
   ]
  },
  {
   "cell_type": "code",
   "execution_count": 17,
   "id": "3878a4cc",
   "metadata": {},
   "outputs": [
    {
     "name": "stdout",
     "output_type": "stream",
     "text": [
      "              precision    recall  f1-score   support\n",
      "\n",
      "      NORMAL       0.83      0.83      0.83       724\n",
      "       COVID       0.88      0.87      0.87      1203\n",
      "Lung Opacity       0.90      0.91      0.90      1771\n",
      "\n",
      "    accuracy                           0.88      3698\n",
      "   macro avg       0.87      0.87      0.87      3698\n",
      "weighted avg       0.88      0.88      0.88      3698\n",
      "\n"
     ]
    }
   ],
   "source": [
    "print(classification_report(y_true=test.classes,y_pred=predictions,target_names =['NORMAL','COVID', 'Lung Opacity']))"
   ]
  },
  {
   "cell_type": "code",
   "execution_count": 18,
   "id": "92b49b2c",
   "metadata": {},
   "outputs": [],
   "source": [
    "from sklearn.metrics import precision_recall_fscore_support, accuracy_score\n",
    "import seaborn as sns"
   ]
  },
  {
   "cell_type": "code",
   "execution_count": 19,
   "id": "f2aa8855",
   "metadata": {},
   "outputs": [],
   "source": [
    "y_true=test.classes"
   ]
  },
  {
   "cell_type": "code",
   "execution_count": 20,
   "id": "6b2a1d62",
   "metadata": {},
   "outputs": [
    {
     "name": "stdout",
     "output_type": "stream",
     "text": [
      "**Overall Results**\n",
      "Accuracy Result: 87.94%\n",
      "Precision Result: 87.74%\n",
      "Recall Result: 86.87%\n",
      "F-Score Result: 87.30%\n"
     ]
    },
    {
     "data": {
      "image/png": "[encoded data removed]",
      "text/plain": [
       "<Figure size 1584x720 with 1 Axes>"
      ]
     },
     "metadata": {
      "needs_background": "light"
     },
     "output_type": "display_data"
    },
    {
     "data": {
      "image/png": "[encoded data removed]",
      "text/plain": [
       "<Figure size 1584x720 with 1 Axes>"
      ]
     },
     "metadata": {
      "needs_background": "light"
     },
     "output_type": "display_data"
    },
    {
     "data": {
      "image/png": "[encoded data removed]",
      "text/plain": [
       "<Figure size 1584x720 with 1 Axes>"
      ]
     },
     "metadata": {
      "needs_background": "light"
     },
     "output_type": "display_data"
    }
   ],
   "source": [
    "#Accuracy Result\n",
    "acc = accuracy_score(y_true, predictions)\n",
    "#Precision, Recall and F-Score (For the whole dataset)\n",
    "results_all = precision_recall_fscore_support(y_true, predictions, average='macro',zero_division = 1)\n",
    "#Precision, Recall and F-Score (For each Class)\n",
    "results_class = precision_recall_fscore_support(y_true, predictions, average=None, zero_division = 1)\n",
    "\n",
    "#Organise the Results into a Dataframe\n",
    "metric_columns = ['Precision','Recall', 'F-Score','S']\n",
    "all_df = pd.concat([pd.DataFrame(list(results_class)).T,pd.DataFrame(list(results_all)).T])\n",
    "all_df.columns = metric_columns\n",
    "all_df.index = ['COVID','Normal','Lung Opacity','Total']\n",
    "\n",
    "#Function to plot the metrics into a nice bar Plot\n",
    "def metrics_plot(df,metric):\n",
    "    plt.figure(figsize=(22,10))\n",
    "    ax = sns.barplot(data =df, x=df.index, y = metric,palette = \"Blues_d\")\n",
    "    #Bar Labels\n",
    "    for p in ax.patches:\n",
    "        ax.annotate(\"%.1f%%\" % (100*p.get_height()), (p.get_x() + p.get_width() / 2., abs(p.get_height())),\n",
    "        ha='center', va='bottom', color='black', xytext=(-3, 5),rotation = 'horizontal',textcoords='offset points')\n",
    "    sns.despine(top=True, right=True, left=True, bottom=False)\n",
    "    ax.set_xlabel('Class',fontsize = 14,weight = 'bold')\n",
    "    ax.set_ylabel(metric,fontsize = 14,weight = 'bold')\n",
    "    ax.set(yticklabels=[])\n",
    "    ax.axes.get_yaxis().set_visible(False) \n",
    "    plt.title(metric+ ' Results per Class', fontsize = 16,weight = 'bold');\n",
    "    \n",
    "metrics_plot(all_df, 'Precision')#Results by Class\n",
    "metrics_plot(all_df, 'Recall')#Results by Class\n",
    "metrics_plot(all_df, 'F-Score')#Results by Class\n",
    "print('**Overall Results**')\n",
    "print('Accuracy Result: %.2f%%'%(acc*100)) #Accuracy of the whole Dataset\n",
    "print('Precision Result: %.2f%%'%(all_df.iloc[1,0]*100))#Precision of the whole Dataset\n",
    "print('Recall Result: %.2f%%'%(all_df.iloc[1,1]*100))#Recall of the whole Dataset\n",
    "print('F-Score Result: %.2f%%'%(all_df.iloc[1,2]*100))#F-Score of the whole Dataset"
   ]
  },
  {
   "cell_type": "code",
   "execution_count": 21,
   "id": "5cd2e99f",
   "metadata": {},
   "outputs": [
    {
     "data": {
      "text/plain": [
       "<AxesSubplot:>"
      ]
     },
     "execution_count": 21,
     "metadata": {},
     "output_type": "execute_result"
    },
    {
     "data": {
      "image/png": "[encoded data removed]",
      "text/plain": [
       "<Figure size 432x288 with 2 Axes>"
      ]
     },
     "metadata": {
      "needs_background": "light"
     },
     "output_type": "display_data"
    }
   ],
   "source": [
    "from sklearn.metrics import classification_report,confusion_matrix\n",
    "cm = pd.DataFrame(data=confusion_matrix(test.classes, predictions),index=[\"Actual Normal\", \"Actual COVID\", \"Actual Lung Opacity\"],\n",
    "columns=[\"Predicted Normal\", \"Predicted COVID\",\"Predicted Lung Opacity\"])\n",
    "import seaborn as sns\n",
    "sns.heatmap(cm,annot=True,fmt=\"d\")"
   ]
  },
  {
   "cell_type": "code",
   "execution_count": 23,
   "id": "32032a0e",
   "metadata": {},
   "outputs": [
    {
     "data": {
      "image/png": "[encoded data removed]",
      "text/plain": [
       "<Figure size 864x432 with 2 Axes>"
      ]
     },
     "metadata": {
      "needs_background": "light"
     },
     "output_type": "display_data"
    }
   ],
   "source": [
    "acc = hist.history['accuracy']\n",
    "val_acc = hist.history['val_accuracy']\n",
    "\n",
    "loss = hist.history['loss']\n",
    "val_loss = hist.history['val_loss']\n",
    "\n",
    "epochs_range = range(32)\n",
    "\n",
    "plt.figure(figsize=(12, 6))\n",
    "plt.subplot(1, 2, 1)\n",
    "plt.plot(epochs_range, acc, label='Training Accuracy')\n",
    "\n",
    "plt.legend(loc='lower right')\n",
    "plt.title('Training Accuracy')\n",
    "\n",
    "plt.subplot(1, 2, 2)\n",
    "plt.plot(epochs_range, loss, label='Training Loss')\n",
    "\n",
    "plt.legend(loc='upper right')\n",
    "plt.title('Training Loss')\n",
    "plt.show()"
   ]
  }
 ],
 "metadata": {
  "kernelspec": {
   "display_name": "Python 3",
   "language": "python",
   "name": "python3"
  },
  "language_info": {
   "codemirror_mode": {
    "name": "ipython",
    "version": 3
   },
   "file_extension": ".py",
   "mimetype": "text/x-python",
   "name": "python",
   "nbconvert_exporter": "python",
   "pygments_lexer": "ipython3",
   "version": "3.6.13"
  }
 },
 "nbformat": 4,
 "nbformat_minor": 5
}
